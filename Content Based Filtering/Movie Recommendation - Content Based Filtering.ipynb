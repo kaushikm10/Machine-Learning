{
 "cells": [
  {
   "cell_type": "markdown",
   "metadata": {},
   "source": [
    "<img align='center' src=\"https://heartoflongmont.org/wp-content/uploads/2019/02/Movie-Recommendation.jpg\">"
   ]
  },
  {
   "cell_type": "markdown",
   "metadata": {},
   "source": [
    "<h1 align='center'>Content Based Filtering</h1>"
   ]
  },
  {
   "cell_type": "markdown",
   "metadata": {},
   "source": [
    "<h3>Importing required packages, modules, functions</h3>"
   ]
  },
  {
   "cell_type": "code",
   "execution_count": 1,
   "metadata": {},
   "outputs": [],
   "source": [
    "import pandas as pd\n",
    "import numpy as np\n",
    "from sklearn.feature_extraction.text import CountVectorizer\n",
    "from sklearn.metrics.pairwise import cosine_similarity\n",
    "import ipywidgets as widgets"
   ]
  },
  {
   "cell_type": "markdown",
   "metadata": {},
   "source": [
    "### Reading the dataset"
   ]
  },
  {
   "cell_type": "code",
   "execution_count": 2,
   "metadata": {},
   "outputs": [],
   "source": [
    "df = pd.read_csv(\"Downloads/imdb.csv\")"
   ]
  },
  {
   "cell_type": "code",
   "execution_count": 3,
   "metadata": {},
   "outputs": [
    {
     "data": {
      "text/html": [
       "<div>\n",
       "<style scoped>\n",
       "    .dataframe tbody tr th:only-of-type {\n",
       "        vertical-align: middle;\n",
       "    }\n",
       "\n",
       "    .dataframe tbody tr th {\n",
       "        vertical-align: top;\n",
       "    }\n",
       "\n",
       "    .dataframe thead th {\n",
       "        text-align: right;\n",
       "    }\n",
       "</style>\n",
       "<table border=\"1\" class=\"dataframe\">\n",
       "  <thead>\n",
       "    <tr style=\"text-align: right;\">\n",
       "      <th></th>\n",
       "      <th>cast_crew</th>\n",
       "      <th>description</th>\n",
       "      <th>genre</th>\n",
       "      <th>gross</th>\n",
       "      <th>imdb_score</th>\n",
       "      <th>movie_name</th>\n",
       "      <th>rating</th>\n",
       "      <th>runtime</th>\n",
       "      <th>votes</th>\n",
       "    </tr>\n",
       "  </thead>\n",
       "  <tbody>\n",
       "    <tr>\n",
       "      <th>0</th>\n",
       "      <td>\\n    Director:\\n,Thomas Kail,\\n              ...</td>\n",
       "      <td>\\n    The real life of one of America's foremo...</td>\n",
       "      <td>\\nBiography, Drama, History</td>\n",
       "      <td>NaN</td>\n",
       "      <td>9.0</td>\n",
       "      <td>Hamilton</td>\n",
       "      <td>PG-13</td>\n",
       "      <td>160 min</td>\n",
       "      <td>22,819</td>\n",
       "    </tr>\n",
       "    <tr>\n",
       "      <th>1</th>\n",
       "      <td>\\n    Director:\\n,David Dobkin,\\n             ...</td>\n",
       "      <td>\\n    When aspiring musicians Lars and Sigrit ...</td>\n",
       "      <td>\\nComedy, Music</td>\n",
       "      <td>NaN</td>\n",
       "      <td>6.6</td>\n",
       "      <td>Eurovision Song Contest: The Story of Fire Saga</td>\n",
       "      <td>PG-13</td>\n",
       "      <td>123 min</td>\n",
       "      <td>45,555</td>\n",
       "    </tr>\n",
       "    <tr>\n",
       "      <th>2</th>\n",
       "      <td>\\n    Director:\\n,Gina Prince-Bythewood,\\n    ...</td>\n",
       "      <td>\\n    A covert team of immortal mercenaries ar...</td>\n",
       "      <td>\\nAction, Adventure, Fantasy</td>\n",
       "      <td>NaN</td>\n",
       "      <td>6.7</td>\n",
       "      <td>The Old Guard</td>\n",
       "      <td>R</td>\n",
       "      <td>125 min</td>\n",
       "      <td>43,653</td>\n",
       "    </tr>\n",
       "    <tr>\n",
       "      <th>3</th>\n",
       "      <td>\\n    Directors:\\n,Barbara Bialowas,, \\n,Tomas...</td>\n",
       "      <td>\\n    Massimo is a member of the Sicilian Mafi...</td>\n",
       "      <td>\\nDrama, Romance</td>\n",
       "      <td>NaN</td>\n",
       "      <td>3.3</td>\n",
       "      <td>365 Days</td>\n",
       "      <td>TV-MA</td>\n",
       "      <td>114 min</td>\n",
       "      <td>26,324</td>\n",
       "    </tr>\n",
       "    <tr>\n",
       "      <th>4</th>\n",
       "      <td>\\n    Director:\\n,Aaron Schneider,\\n          ...</td>\n",
       "      <td>\\n    Early in World War II, an inexperienced ...</td>\n",
       "      <td>\\nAction, Drama, History</td>\n",
       "      <td>NaN</td>\n",
       "      <td>7.1</td>\n",
       "      <td>Greyhound</td>\n",
       "      <td>PG-13</td>\n",
       "      <td>91 min</td>\n",
       "      <td>16,830</td>\n",
       "    </tr>\n",
       "  </tbody>\n",
       "</table>\n",
       "</div>"
      ],
      "text/plain": [
       "                                           cast_crew  \\\n",
       "0  \\n    Director:\\n,Thomas Kail,\\n              ...   \n",
       "1  \\n    Director:\\n,David Dobkin,\\n             ...   \n",
       "2  \\n    Director:\\n,Gina Prince-Bythewood,\\n    ...   \n",
       "3  \\n    Directors:\\n,Barbara Bialowas,, \\n,Tomas...   \n",
       "4  \\n    Director:\\n,Aaron Schneider,\\n          ...   \n",
       "\n",
       "                                         description  \\\n",
       "0  \\n    The real life of one of America's foremo...   \n",
       "1  \\n    When aspiring musicians Lars and Sigrit ...   \n",
       "2  \\n    A covert team of immortal mercenaries ar...   \n",
       "3  \\n    Massimo is a member of the Sicilian Mafi...   \n",
       "4  \\n    Early in World War II, an inexperienced ...   \n",
       "\n",
       "                                      genre gross  imdb_score  \\\n",
       "0   \\nBiography, Drama, History               NaN         9.0   \n",
       "1               \\nComedy, Music               NaN         6.6   \n",
       "2  \\nAction, Adventure, Fantasy               NaN         6.7   \n",
       "3              \\nDrama, Romance               NaN         3.3   \n",
       "4      \\nAction, Drama, History               NaN         7.1   \n",
       "\n",
       "                                        movie_name rating  runtime   votes  \n",
       "0                                         Hamilton  PG-13  160 min  22,819  \n",
       "1  Eurovision Song Contest: The Story of Fire Saga  PG-13  123 min  45,555  \n",
       "2                                    The Old Guard      R  125 min  43,653  \n",
       "3                                         365 Days  TV-MA  114 min  26,324  \n",
       "4                                        Greyhound  PG-13   91 min  16,830  "
      ]
     },
     "execution_count": 3,
     "metadata": {},
     "output_type": "execute_result"
    }
   ],
   "source": [
    "df.head()"
   ]
  },
  {
   "cell_type": "markdown",
   "metadata": {},
   "source": [
    "### Data Cleaning and Data Preparation"
   ]
  },
  {
   "cell_type": "markdown",
   "metadata": {},
   "source": [
    "<p><b>Data Cleaning</b> includes removing unnecessary characters like the new-line character '\\n', whitespaces etc. </p>\n",
    "<p><b>Data Preparation</b> includes separating the directors and the main-cast of the movie from the 'cast_crew' column. A new column 'combined' is created which contains the necessary data required for movie recommendation using content based filtering. </p>"
   ]
  },
  {
   "cell_type": "markdown",
   "metadata": {},
   "source": [
    "##### Data Cleaning"
   ]
  },
  {
   "cell_type": "code",
   "execution_count": 4,
   "metadata": {},
   "outputs": [],
   "source": [
    "df['cast_crew'] = df['cast_crew'].str.strip()\n",
    "df['description'] = df['description'].str.strip()\n",
    "df['genre'] = df['genre'].str.strip()"
   ]
  },
  {
   "cell_type": "code",
   "execution_count": 5,
   "metadata": {},
   "outputs": [],
   "source": [
    "df['cast_crew'] = df['cast_crew'].str.split(\"|\")"
   ]
  },
  {
   "cell_type": "code",
   "execution_count": 6,
   "metadata": {},
   "outputs": [],
   "source": [
    "for i, cast in enumerate(df['cast_crew']):\n",
    "    try:\n",
    "        df.loc[i, 'director'] = cast[0]\n",
    "    except:\n",
    "        df.loc[i, 'director'] = np.nan\n",
    "    try:\n",
    "        df.loc[i, 'cast'] = cast[1]\n",
    "    except:\n",
    "        df.loc[i, 'cast'] = np.nan"
   ]
  },
  {
   "cell_type": "code",
   "execution_count": 7,
   "metadata": {},
   "outputs": [],
   "source": [
    "df.drop('cast_crew', axis=1, inplace=True)"
   ]
  },
  {
   "cell_type": "code",
   "execution_count": 8,
   "metadata": {},
   "outputs": [],
   "source": [
    "df['director'] = df['director'].str.replace(\"\\n\", \"\")\n",
    "df['cast'] = df['cast'].str.replace(\"\\n\", \"\")"
   ]
  },
  {
   "cell_type": "code",
   "execution_count": 9,
   "metadata": {},
   "outputs": [],
   "source": [
    "df['director'] = df['director'].str.replace(\"Director:,\", \"\")\n",
    "df['cast'] = df['cast'].str.replace(\"Stars:,\", \"\")"
   ]
  },
  {
   "cell_type": "code",
   "execution_count": 10,
   "metadata": {},
   "outputs": [],
   "source": [
    "df['director'] = df['director'].str.replace(\"Directors:,\", \"\")"
   ]
  },
  {
   "cell_type": "code",
   "execution_count": 11,
   "metadata": {},
   "outputs": [],
   "source": [
    "df['cast'] = df['cast'].str.replace(\",\", \"\", 1)"
   ]
  },
  {
   "cell_type": "code",
   "execution_count": 12,
   "metadata": {},
   "outputs": [],
   "source": [
    "df['cast'] = df['cast'].str.strip()"
   ]
  },
  {
   "cell_type": "code",
   "execution_count": 13,
   "metadata": {},
   "outputs": [],
   "source": [
    "for i, d in enumerate(df['director']):\n",
    "    d = d[::-1]\n",
    "    d = d.replace(\",\", \"\", 1)\n",
    "    d = d.strip()\n",
    "    d = d[1:]\n",
    "    d = d[::-1]\n",
    "    df.loc[i, 'director'] = d"
   ]
  },
  {
   "cell_type": "code",
   "execution_count": 14,
   "metadata": {},
   "outputs": [],
   "source": [
    "for i, c in enumerate(df['cast']):\n",
    "    try:\n",
    "        c = set(c.split(\",\"))\n",
    "        c.discard(\"\")\n",
    "        c.discard(\" \")\n",
    "        c = list(c)\n",
    "        y = \"\"\n",
    "        for x in c:\n",
    "            y = y + x + \", \"\n",
    "        df.loc[i, 'cast'] = y\n",
    "    except:\n",
    "        pass\n",
    "    "
   ]
  },
  {
   "cell_type": "code",
   "execution_count": 15,
   "metadata": {},
   "outputs": [],
   "source": [
    "df['cast'] = df['cast'].str.rstrip()"
   ]
  },
  {
   "cell_type": "code",
   "execution_count": 16,
   "metadata": {},
   "outputs": [],
   "source": [
    "for i, c in enumerate(df['cast']):\n",
    "    try:\n",
    "        c = c[::-1]\n",
    "        c = c.replace(\",\", \"\", 1)\n",
    "        c = c[::-1]\n",
    "        df.loc[i, 'cast'] = c\n",
    "    except:\n",
    "        pass"
   ]
  },
  {
   "cell_type": "code",
   "execution_count": 17,
   "metadata": {},
   "outputs": [],
   "source": [
    "for i, d in enumerate(df['director']):\n",
    "    try:\n",
    "        d = set(d.split(\",\"))\n",
    "        d.discard(\"\")\n",
    "        d.discard(\" \")\n",
    "        d = list(d)\n",
    "        y = \"\"\n",
    "        for j, x in enumerate(d):\n",
    "            if j == len(d)-1:\n",
    "                y = y + x\n",
    "            else:\n",
    "                y = y + x + \", \"\n",
    "        df.loc[i, 'director'] = y\n",
    "    except:\n",
    "        pass"
   ]
  },
  {
   "cell_type": "code",
   "execution_count": 18,
   "metadata": {},
   "outputs": [],
   "source": [
    "for i, g in enumerate(df['gross']):\n",
    "    try:\n",
    "        g = float(g[1:-1])\n",
    "        df.loc[i, 'gross'] = g\n",
    "    except:\n",
    "        pass"
   ]
  },
  {
   "cell_type": "code",
   "execution_count": 19,
   "metadata": {},
   "outputs": [],
   "source": [
    "df = df[['movie_name', 'director', 'cast', 'genre', 'description', 'imdb_score', 'votes', 'rating', 'runtime', 'gross']]"
   ]
  },
  {
   "cell_type": "code",
   "execution_count": 20,
   "metadata": {},
   "outputs": [],
   "source": [
    "df['votes'] = df['votes'].str.replace(\",\", \"\")"
   ]
  },
  {
   "cell_type": "code",
   "execution_count": 21,
   "metadata": {},
   "outputs": [],
   "source": [
    "df['votes'] = df['votes'].astype(float)"
   ]
  },
  {
   "cell_type": "code",
   "execution_count": 22,
   "metadata": {},
   "outputs": [],
   "source": [
    "df['runtime'] = df['runtime'].str.replace(\" min\", \"\")"
   ]
  },
  {
   "cell_type": "code",
   "execution_count": 23,
   "metadata": {},
   "outputs": [],
   "source": [
    "df['runtime'] = df['runtime'].astype(float)"
   ]
  },
  {
   "cell_type": "code",
   "execution_count": 25,
   "metadata": {},
   "outputs": [],
   "source": [
    "#df.to_csv(\"imdb_cleaned.csv\")"
   ]
  },
  {
   "cell_type": "markdown",
   "metadata": {},
   "source": [
    "##### Data preparation"
   ]
  },
  {
   "cell_type": "code",
   "execution_count": 24,
   "metadata": {},
   "outputs": [
    {
     "data": {
      "text/html": [
       "<div>\n",
       "<style scoped>\n",
       "    .dataframe tbody tr th:only-of-type {\n",
       "        vertical-align: middle;\n",
       "    }\n",
       "\n",
       "    .dataframe tbody tr th {\n",
       "        vertical-align: top;\n",
       "    }\n",
       "\n",
       "    .dataframe thead th {\n",
       "        text-align: right;\n",
       "    }\n",
       "</style>\n",
       "<table border=\"1\" class=\"dataframe\">\n",
       "  <thead>\n",
       "    <tr style=\"text-align: right;\">\n",
       "      <th></th>\n",
       "      <th>movie_name</th>\n",
       "      <th>director</th>\n",
       "      <th>cast</th>\n",
       "      <th>genre</th>\n",
       "      <th>description</th>\n",
       "      <th>imdb_score</th>\n",
       "      <th>votes</th>\n",
       "      <th>rating</th>\n",
       "      <th>runtime</th>\n",
       "      <th>gross</th>\n",
       "    </tr>\n",
       "  </thead>\n",
       "  <tbody>\n",
       "    <tr>\n",
       "      <th>0</th>\n",
       "      <td>Hamilton</td>\n",
       "      <td>Thomas Kail</td>\n",
       "      <td>Leslie Odom Jr., Renée Elise Goldsberry, Phill...</td>\n",
       "      <td>Biography, Drama, History</td>\n",
       "      <td>The real life of one of America's foremost fou...</td>\n",
       "      <td>9</td>\n",
       "      <td>22819</td>\n",
       "      <td>PG-13</td>\n",
       "      <td>160</td>\n",
       "      <td></td>\n",
       "    </tr>\n",
       "    <tr>\n",
       "      <th>1</th>\n",
       "      <td>Eurovision Song Contest: The Story of Fire Saga</td>\n",
       "      <td>David Dobkin</td>\n",
       "      <td>Dan Stevens, Rachel McAdams, Mikael Persbrandt...</td>\n",
       "      <td>Comedy, Music</td>\n",
       "      <td>When aspiring musicians Lars and Sigrit are gi...</td>\n",
       "      <td>6.6</td>\n",
       "      <td>45555</td>\n",
       "      <td>PG-13</td>\n",
       "      <td>123</td>\n",
       "      <td></td>\n",
       "    </tr>\n",
       "    <tr>\n",
       "      <th>2</th>\n",
       "      <td>The Old Guard</td>\n",
       "      <td>Gina Prince-Bythewood</td>\n",
       "      <td>Matthias Schoenaerts, Charlize Theron, Marwan ...</td>\n",
       "      <td>Action, Adventure, Fantasy</td>\n",
       "      <td>A covert team of immortal mercenaries are sudd...</td>\n",
       "      <td>6.7</td>\n",
       "      <td>43653</td>\n",
       "      <td>R</td>\n",
       "      <td>125</td>\n",
       "      <td></td>\n",
       "    </tr>\n",
       "    <tr>\n",
       "      <th>3</th>\n",
       "      <td>365 Days</td>\n",
       "      <td>Barbara Bialowas, Tomasz Mandes</td>\n",
       "      <td>Anna Maria Sieklucka, Bronislaw Wroclawski, Mi...</td>\n",
       "      <td>Drama, Romance</td>\n",
       "      <td>Massimo is a member of the Sicilian Mafia fami...</td>\n",
       "      <td>3.3</td>\n",
       "      <td>26324</td>\n",
       "      <td>TV-MA</td>\n",
       "      <td>114</td>\n",
       "      <td></td>\n",
       "    </tr>\n",
       "    <tr>\n",
       "      <th>4</th>\n",
       "      <td>Greyhound</td>\n",
       "      <td>Aaron Schneider</td>\n",
       "      <td>Stephen Graham, Tom Hanks, Elisabeth Shue, Mat...</td>\n",
       "      <td>Action, Drama, History</td>\n",
       "      <td>Early in World War II, an inexperienced U.S. N...</td>\n",
       "      <td>7.1</td>\n",
       "      <td>16830</td>\n",
       "      <td>PG-13</td>\n",
       "      <td>91</td>\n",
       "      <td></td>\n",
       "    </tr>\n",
       "  </tbody>\n",
       "</table>\n",
       "</div>"
      ],
      "text/plain": [
       "                                        movie_name  \\\n",
       "0                                         Hamilton   \n",
       "1  Eurovision Song Contest: The Story of Fire Saga   \n",
       "2                                    The Old Guard   \n",
       "3                                         365 Days   \n",
       "4                                        Greyhound   \n",
       "\n",
       "                          director  \\\n",
       "0                      Thomas Kail   \n",
       "1                     David Dobkin   \n",
       "2            Gina Prince-Bythewood   \n",
       "3  Barbara Bialowas, Tomasz Mandes   \n",
       "4                  Aaron Schneider   \n",
       "\n",
       "                                                cast  \\\n",
       "0  Leslie Odom Jr., Renée Elise Goldsberry, Phill...   \n",
       "1  Dan Stevens, Rachel McAdams, Mikael Persbrandt...   \n",
       "2  Matthias Schoenaerts, Charlize Theron, Marwan ...   \n",
       "3  Anna Maria Sieklucka, Bronislaw Wroclawski, Mi...   \n",
       "4  Stephen Graham, Tom Hanks, Elisabeth Shue, Mat...   \n",
       "\n",
       "                        genre  \\\n",
       "0   Biography, Drama, History   \n",
       "1               Comedy, Music   \n",
       "2  Action, Adventure, Fantasy   \n",
       "3              Drama, Romance   \n",
       "4      Action, Drama, History   \n",
       "\n",
       "                                         description imdb_score  votes rating  \\\n",
       "0  The real life of one of America's foremost fou...          9  22819  PG-13   \n",
       "1  When aspiring musicians Lars and Sigrit are gi...        6.6  45555  PG-13   \n",
       "2  A covert team of immortal mercenaries are sudd...        6.7  43653      R   \n",
       "3  Massimo is a member of the Sicilian Mafia fami...        3.3  26324  TV-MA   \n",
       "4  Early in World War II, an inexperienced U.S. N...        7.1  16830  PG-13   \n",
       "\n",
       "  runtime gross  \n",
       "0     160        \n",
       "1     123        \n",
       "2     125        \n",
       "3     114        \n",
       "4      91        "
      ]
     },
     "execution_count": 24,
     "metadata": {},
     "output_type": "execute_result"
    }
   ],
   "source": [
    "df.fillna(\"\", inplace=True)\n",
    "df.head()"
   ]
  },
  {
   "cell_type": "code",
   "execution_count": 25,
   "metadata": {},
   "outputs": [],
   "source": [
    "df['cast'] = df['cast'].str.replace(\",\", \"\")\n",
    "df['director'] = df['director'].str.replace(\",\", \"\")\n",
    "df['genre'] = df['genre'].str.replace(\",\", \"\")"
   ]
  },
  {
   "cell_type": "code",
   "execution_count": 26,
   "metadata": {},
   "outputs": [
    {
     "data": {
      "text/html": [
       "<div>\n",
       "<style scoped>\n",
       "    .dataframe tbody tr th:only-of-type {\n",
       "        vertical-align: middle;\n",
       "    }\n",
       "\n",
       "    .dataframe tbody tr th {\n",
       "        vertical-align: top;\n",
       "    }\n",
       "\n",
       "    .dataframe thead th {\n",
       "        text-align: right;\n",
       "    }\n",
       "</style>\n",
       "<table border=\"1\" class=\"dataframe\">\n",
       "  <thead>\n",
       "    <tr style=\"text-align: right;\">\n",
       "      <th></th>\n",
       "      <th>movie_name</th>\n",
       "      <th>director</th>\n",
       "      <th>cast</th>\n",
       "      <th>genre</th>\n",
       "      <th>description</th>\n",
       "      <th>imdb_score</th>\n",
       "      <th>votes</th>\n",
       "      <th>rating</th>\n",
       "      <th>runtime</th>\n",
       "      <th>gross</th>\n",
       "    </tr>\n",
       "  </thead>\n",
       "  <tbody>\n",
       "    <tr>\n",
       "      <th>0</th>\n",
       "      <td>Hamilton</td>\n",
       "      <td>Thomas Kail</td>\n",
       "      <td>Leslie Odom Jr. Renée Elise Goldsberry Phillip...</td>\n",
       "      <td>Biography Drama History</td>\n",
       "      <td>The real life of one of America's foremost fou...</td>\n",
       "      <td>9</td>\n",
       "      <td>22819</td>\n",
       "      <td>PG-13</td>\n",
       "      <td>160</td>\n",
       "      <td></td>\n",
       "    </tr>\n",
       "  </tbody>\n",
       "</table>\n",
       "</div>"
      ],
      "text/plain": [
       "  movie_name     director                                               cast  \\\n",
       "0   Hamilton  Thomas Kail  Leslie Odom Jr. Renée Elise Goldsberry Phillip...   \n",
       "\n",
       "                     genre                                        description  \\\n",
       "0  Biography Drama History  The real life of one of America's foremost fou...   \n",
       "\n",
       "  imdb_score  votes rating runtime gross  \n",
       "0          9  22819  PG-13     160        "
      ]
     },
     "execution_count": 26,
     "metadata": {},
     "output_type": "execute_result"
    }
   ],
   "source": [
    "df.head(1)"
   ]
  },
  {
   "cell_type": "markdown",
   "metadata": {},
   "source": [
    "The following function returns the combined data of each movie required for content-based filtering"
   ]
  },
  {
   "cell_type": "code",
   "execution_count": 27,
   "metadata": {},
   "outputs": [],
   "source": [
    "def combine(row):\n",
    "    return row['movie_name'] + \" \" + row['director'] + \" \" + row['cast'] + \" \" + row['genre'] + \" \" + row['description'] + \" \" + str(row['imdb_score']) + \" \" + row['rating'] + \" \" + str(row['runtime'])"
   ]
  },
  {
   "cell_type": "code",
   "execution_count": 28,
   "metadata": {},
   "outputs": [],
   "source": [
    "df['combined'] = df.apply(combine, axis=1)"
   ]
  },
  {
   "cell_type": "code",
   "execution_count": 29,
   "metadata": {},
   "outputs": [
    {
     "data": {
      "text/html": [
       "<div>\n",
       "<style scoped>\n",
       "    .dataframe tbody tr th:only-of-type {\n",
       "        vertical-align: middle;\n",
       "    }\n",
       "\n",
       "    .dataframe tbody tr th {\n",
       "        vertical-align: top;\n",
       "    }\n",
       "\n",
       "    .dataframe thead th {\n",
       "        text-align: right;\n",
       "    }\n",
       "</style>\n",
       "<table border=\"1\" class=\"dataframe\">\n",
       "  <thead>\n",
       "    <tr style=\"text-align: right;\">\n",
       "      <th></th>\n",
       "      <th>movie_name</th>\n",
       "      <th>director</th>\n",
       "      <th>cast</th>\n",
       "      <th>genre</th>\n",
       "      <th>description</th>\n",
       "      <th>imdb_score</th>\n",
       "      <th>votes</th>\n",
       "      <th>rating</th>\n",
       "      <th>runtime</th>\n",
       "      <th>gross</th>\n",
       "      <th>combined</th>\n",
       "    </tr>\n",
       "  </thead>\n",
       "  <tbody>\n",
       "    <tr>\n",
       "      <th>0</th>\n",
       "      <td>Hamilton</td>\n",
       "      <td>Thomas Kail</td>\n",
       "      <td>Leslie Odom Jr. Renée Elise Goldsberry Phillip...</td>\n",
       "      <td>Biography Drama History</td>\n",
       "      <td>The real life of one of America's foremost fou...</td>\n",
       "      <td>9</td>\n",
       "      <td>22819</td>\n",
       "      <td>PG-13</td>\n",
       "      <td>160</td>\n",
       "      <td></td>\n",
       "      <td>Hamilton Thomas Kail Leslie Odom Jr. Renée Eli...</td>\n",
       "    </tr>\n",
       "    <tr>\n",
       "      <th>1</th>\n",
       "      <td>Eurovision Song Contest: The Story of Fire Saga</td>\n",
       "      <td>David Dobkin</td>\n",
       "      <td>Dan Stevens Rachel McAdams Mikael Persbrandt W...</td>\n",
       "      <td>Comedy Music</td>\n",
       "      <td>When aspiring musicians Lars and Sigrit are gi...</td>\n",
       "      <td>6.6</td>\n",
       "      <td>45555</td>\n",
       "      <td>PG-13</td>\n",
       "      <td>123</td>\n",
       "      <td></td>\n",
       "      <td>Eurovision Song Contest: The Story of Fire Sag...</td>\n",
       "    </tr>\n",
       "    <tr>\n",
       "      <th>2</th>\n",
       "      <td>The Old Guard</td>\n",
       "      <td>Gina Prince-Bythewood</td>\n",
       "      <td>Matthias Schoenaerts Charlize Theron Marwan Ke...</td>\n",
       "      <td>Action Adventure Fantasy</td>\n",
       "      <td>A covert team of immortal mercenaries are sudd...</td>\n",
       "      <td>6.7</td>\n",
       "      <td>43653</td>\n",
       "      <td>R</td>\n",
       "      <td>125</td>\n",
       "      <td></td>\n",
       "      <td>The Old Guard Gina Prince-Bythewood Matthias S...</td>\n",
       "    </tr>\n",
       "    <tr>\n",
       "      <th>3</th>\n",
       "      <td>365 Days</td>\n",
       "      <td>Barbara Bialowas Tomasz Mandes</td>\n",
       "      <td>Anna Maria Sieklucka Bronislaw Wroclawski Mich...</td>\n",
       "      <td>Drama Romance</td>\n",
       "      <td>Massimo is a member of the Sicilian Mafia fami...</td>\n",
       "      <td>3.3</td>\n",
       "      <td>26324</td>\n",
       "      <td>TV-MA</td>\n",
       "      <td>114</td>\n",
       "      <td></td>\n",
       "      <td>365 Days Barbara Bialowas Tomasz Mandes Anna M...</td>\n",
       "    </tr>\n",
       "    <tr>\n",
       "      <th>4</th>\n",
       "      <td>Greyhound</td>\n",
       "      <td>Aaron Schneider</td>\n",
       "      <td>Stephen Graham Tom Hanks Elisabeth Shue Matt Helm</td>\n",
       "      <td>Action Drama History</td>\n",
       "      <td>Early in World War II, an inexperienced U.S. N...</td>\n",
       "      <td>7.1</td>\n",
       "      <td>16830</td>\n",
       "      <td>PG-13</td>\n",
       "      <td>91</td>\n",
       "      <td></td>\n",
       "      <td>Greyhound Aaron Schneider Stephen Graham Tom H...</td>\n",
       "    </tr>\n",
       "  </tbody>\n",
       "</table>\n",
       "</div>"
      ],
      "text/plain": [
       "                                        movie_name  \\\n",
       "0                                         Hamilton   \n",
       "1  Eurovision Song Contest: The Story of Fire Saga   \n",
       "2                                    The Old Guard   \n",
       "3                                         365 Days   \n",
       "4                                        Greyhound   \n",
       "\n",
       "                         director  \\\n",
       "0                     Thomas Kail   \n",
       "1                    David Dobkin   \n",
       "2           Gina Prince-Bythewood   \n",
       "3  Barbara Bialowas Tomasz Mandes   \n",
       "4                 Aaron Schneider   \n",
       "\n",
       "                                                cast  \\\n",
       "0  Leslie Odom Jr. Renée Elise Goldsberry Phillip...   \n",
       "1  Dan Stevens Rachel McAdams Mikael Persbrandt W...   \n",
       "2  Matthias Schoenaerts Charlize Theron Marwan Ke...   \n",
       "3  Anna Maria Sieklucka Bronislaw Wroclawski Mich...   \n",
       "4  Stephen Graham Tom Hanks Elisabeth Shue Matt Helm   \n",
       "\n",
       "                      genre  \\\n",
       "0   Biography Drama History   \n",
       "1              Comedy Music   \n",
       "2  Action Adventure Fantasy   \n",
       "3             Drama Romance   \n",
       "4      Action Drama History   \n",
       "\n",
       "                                         description imdb_score  votes rating  \\\n",
       "0  The real life of one of America's foremost fou...          9  22819  PG-13   \n",
       "1  When aspiring musicians Lars and Sigrit are gi...        6.6  45555  PG-13   \n",
       "2  A covert team of immortal mercenaries are sudd...        6.7  43653      R   \n",
       "3  Massimo is a member of the Sicilian Mafia fami...        3.3  26324  TV-MA   \n",
       "4  Early in World War II, an inexperienced U.S. N...        7.1  16830  PG-13   \n",
       "\n",
       "  runtime gross                                           combined  \n",
       "0     160        Hamilton Thomas Kail Leslie Odom Jr. Renée Eli...  \n",
       "1     123        Eurovision Song Contest: The Story of Fire Sag...  \n",
       "2     125        The Old Guard Gina Prince-Bythewood Matthias S...  \n",
       "3     114        365 Days Barbara Bialowas Tomasz Mandes Anna M...  \n",
       "4      91        Greyhound Aaron Schneider Stephen Graham Tom H...  "
      ]
     },
     "execution_count": 29,
     "metadata": {},
     "output_type": "execute_result"
    }
   ],
   "source": [
    "df.head()"
   ]
  },
  {
   "cell_type": "markdown",
   "metadata": {},
   "source": [
    "### Movie Recommendation using Content Based Filtering"
   ]
  },
  {
   "cell_type": "code",
   "execution_count": 30,
   "metadata": {},
   "outputs": [],
   "source": [
    "cv = CountVectorizer()\n",
    "count_matrix = cv.fit_transform(df['combined'])\n",
    "cosine = cosine_similarity(count_matrix)"
   ]
  },
  {
   "cell_type": "code",
   "execution_count": 31,
   "metadata": {},
   "outputs": [],
   "source": [
    "#Returns the index of the movie name\n",
    "def get_index(title):\n",
    "    return df[df['movie_name'] == title].index[0]"
   ]
  },
  {
   "cell_type": "code",
   "execution_count": 32,
   "metadata": {},
   "outputs": [
    {
     "data": {
      "application/vnd.jupyter.widget-view+json": {
       "model_id": "3d229a8ada8e4752aca8ffe9c4d1a8bf",
       "version_major": 2,
       "version_minor": 0
      },
      "text/plain": [
       "Dropdown(description='Movie:', options=('Hamilton', 'Eurovision Song Contest: The Story of Fire Saga', 'The Ol…"
      ]
     },
     "metadata": {},
     "output_type": "display_data"
    }
   ],
   "source": [
    "#A dropdown menu containing all the movie titles\n",
    "r = widgets.Dropdown(\n",
    "    options=list(df['movie_name'].values),\n",
    "    description='Movie:',\n",
    "    disabled=False,\n",
    ")\n",
    "r"
   ]
  },
  {
   "cell_type": "code",
   "execution_count": 36,
   "metadata": {},
   "outputs": [],
   "source": [
    "#This step generates a sorted list of movies based on the similarity score\n",
    "movie = r.value\n",
    "movie_index = get_index(movie)\n",
    "#print(movie_index)\n",
    "recommended = list(enumerate(cosine[movie_index]))\n",
    "recommended_sorted = sorted(recommended, reverse=True, key=lambda x:x[1])"
   ]
  },
  {
   "cell_type": "code",
   "execution_count": 37,
   "metadata": {},
   "outputs": [],
   "source": [
    "#Returns the title of the movie\n",
    "def get_title(index):\n",
    "    return df[df.index == index]['movie_name'][index]"
   ]
  },
  {
   "cell_type": "code",
   "execution_count": 38,
   "metadata": {},
   "outputs": [
    {
     "name": "stdout",
     "output_type": "stream",
     "text": [
      "1917\n",
      "Mudbound\n",
      "Force 10 from Navarone\n",
      "Us\n",
      "World War Z\n",
      "Dr. Strangelove or: How I Learned to Stop Worrying and Love the Bomb\n",
      "Windtalkers\n",
      "War Horse\n",
      "Men in Black 3\n",
      "Hart's War\n",
      "Thank You for Your Service\n",
      "War Games\n",
      "Tae Guk Gi: The Brotherhood of War\n",
      "The Monuments Men\n",
      "Stalingrad\n",
      "The Lobster\n",
      "Men with Brooms\n",
      "Sunshine on Leith\n",
      "The Keeping Room\n",
      "Silence\n",
      "Far from Men\n",
      "Revolutionary Road\n",
      "Hearts and Bones\n",
      "The Aftermath\n",
      "The Lucky Ones\n",
      "The Midnight Sky\n",
      "The Prophecy\n",
      "Tomorrow Never Dies\n",
      "A Private War\n",
      "The Beach\n",
      "Duck Butter\n",
      "Phase IV\n",
      "The Big Red One\n",
      "The Great War\n",
      "Thunder Road\n",
      "New Rose Hotel\n",
      "Enemy Lines\n",
      "Mata Hari\n",
      "Sonatine\n",
      "Those Magnificent Men in Their Flying Machines or How I Flew from London to Paris in 25 hours 11 minutes\n",
      "Bus Stop\n",
      "My Way\n",
      "The Foreman Went to France\n",
      "When Hitler Stole Pink Rabbit\n",
      "War Pigs\n",
      "3:10 to Yuma\n",
      "122\n",
      "Jailbreak\n",
      "The Best Years of Our Lives\n",
      "Two Brothers\n",
      "Blade the Iron Cross\n"
     ]
    }
   ],
   "source": [
    "#Display the top 50 recommended movies\n",
    "i = 0\n",
    "for movie in recommended_sorted:\n",
    "    print(get_title(movie[0]))\n",
    "    i += 1\n",
    "    if i > 50:\n",
    "        break"
   ]
  },
  {
   "cell_type": "code",
   "execution_count": null,
   "metadata": {},
   "outputs": [],
   "source": []
  }
 ],
 "metadata": {
  "kernelspec": {
   "display_name": "Python 3",
   "language": "python",
   "name": "python3"
  },
  "language_info": {
   "codemirror_mode": {
    "name": "ipython",
    "version": 3
   },
   "file_extension": ".py",
   "mimetype": "text/x-python",
   "name": "python",
   "nbconvert_exporter": "python",
   "pygments_lexer": "ipython3",
   "version": "3.7.3"
  }
 },
 "nbformat": 4,
 "nbformat_minor": 2
}
